{
  "nbformat": 4,
  "nbformat_minor": 0,
  "metadata": {
    "colab": {
      "name": "Untitled",
      "provenance": [],
      "collapsed_sections": [],
      "authorship_tag": "ABX9TyNK27L9rFQVVfQPGiWJ6O5m",
      "include_colab_link": true
    },
    "kernelspec": {
      "name": "python3",
      "display_name": "Python 3"
    },
    "language_info": {
      "name": "python"
    }
  },
  "cells": [
    {
      "cell_type": "markdown",
      "metadata": {
        "id": "view-in-github",
        "colab_type": "text"
      },
      "source": [
        "<a href=\"https://colab.research.google.com/github/muskan308/veganproject/blob/main/Untitled.ipynb\" target=\"_parent\"><img src=\"https://colab.research.google.com/assets/colab-badge.svg\" alt=\"Open In Colab\"/></a>"
      ]
    },
    {
      "cell_type": "code",
      "metadata": {
        "colab": {
          "base_uri": "https://localhost:8080/"
        },
        "id": "2N1LZTiuLd6K",
        "outputId": "5fa11ae6-def0-4ac2-d84d-abc4fdffeef6"
      },
      "source": [
        "#pilot navigation system\n",
        "#For landing you need to attain an alititude of 3000 ft\n",
        "alt=int(input(\"Enter the altitude: \"))\n",
        "if alt > 3000 and alt < 6000 :\n",
        "     print(\"Come down to 3000 and open landing gear\")\n",
        "elif alt > 6000:\n",
        "        print(\"Go around\")"
      ],
      "execution_count": null,
      "outputs": [
        {
          "output_type": "stream",
          "text": [
            "Enter the altitude: 7000\n",
            "Go around\n"
          ],
          "name": "stdout"
        }
      ]
    }
  ]
}